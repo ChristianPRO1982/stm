{
 "cells": [
  {
   "cell_type": "markdown",
   "metadata": {},
   "source": [
    "___\n",
    "___\n",
    "___\n",
    "# SUTOM\n",
    "___\n",
    "___\n",
    "___"
   ]
  },
  {
   "cell_type": "code",
   "execution_count": 24,
   "metadata": {},
   "outputs": [
    {
     "data": {
      "text/html": [
       "<div>\n",
       "<style scoped>\n",
       "    .dataframe tbody tr th:only-of-type {\n",
       "        vertical-align: middle;\n",
       "    }\n",
       "\n",
       "    .dataframe tbody tr th {\n",
       "        vertical-align: top;\n",
       "    }\n",
       "\n",
       "    .dataframe thead th {\n",
       "        text-align: right;\n",
       "    }\n",
       "</style>\n",
       "<table border=\"1\" class=\"dataframe\">\n",
       "  <thead>\n",
       "    <tr style=\"text-align: right;\">\n",
       "      <th></th>\n",
       "      <th>Mots</th>\n",
       "      <th>MotsSA</th>\n",
       "      <th>Poids</th>\n",
       "    </tr>\n",
       "  </thead>\n",
       "  <tbody>\n",
       "    <tr>\n",
       "      <th>0</th>\n",
       "      <td>a</td>\n",
       "      <td>a</td>\n",
       "      <td>236626</td>\n",
       "    </tr>\n",
       "  </tbody>\n",
       "</table>\n",
       "</div>"
      ],
      "text/plain": [
       "  Mots MotsSA   Poids\n",
       "0    a      a  236626"
      ]
     },
     "metadata": {},
     "output_type": "display_data"
    }
   ],
   "source": [
    "import pandas as pd\n",
    "\n",
    "mots = pd.read_csv('./liste_de_mots.csv')\n",
    "df_frequences_lettres = pd.read_csv('./frequences_lettres.csv')\n",
    "\n",
    "display(mots.head(1))\n"
   ]
  },
  {
   "cell_type": "code",
   "execution_count": 25,
   "metadata": {},
   "outputs": [
    {
     "name": "stdout",
     "output_type": "stream",
     "text": [
      "252615\n",
      "252614\n"
     ]
    }
   ],
   "source": [
    "print(len(mots))\n",
    "mots = mots.dropna(subset=['MotsSA'])\n",
    "print(len(mots))\n"
   ]
  },
  {
   "cell_type": "code",
   "execution_count": 32,
   "metadata": {},
   "outputs": [
    {
     "name": "stdout",
     "output_type": "stream",
     "text": [
      "          Mots  MotsSA    Poids\n",
      "237257  tisane  tisane  1431399\n",
      "235473  tenais  tenais  1431399\n",
      "233925  tarare  tarare  1430640\n",
      "235430  tenace  tenace  1403488\n",
      "234341  tatare  tatare  1391282\n",
      "...        ...     ...      ...\n",
      "243916  typant  typant   832189\n",
      "238579  totaux  totaux   825368\n",
      "243443  tubard  tubard   805194\n",
      "243677  tupaja  tupaja   802070\n",
      "243889  tuyaux  tuyaux   608484\n",
      "\n",
      "[86 rows x 3 columns]\n"
     ]
    }
   ],
   "source": [
    "filtered_words = mots[mots['MotsSA'].str.match('^t..a..$')]\n",
    "\n",
    "# Affichage des mots filtrés\n",
    "print(filtered_words.sort_values('Poids',ascending=False))\n"
   ]
  },
  {
   "cell_type": "code",
   "execution_count": 94,
   "metadata": {},
   "outputs": [
    {
     "name": "stdout",
     "output_type": "stream",
     "text": [
      "           Mots   MotsSA    Poids\n",
      "196829  rasâtes  rasates  1708043\n",
      "197304  ratines  ratines  1642640\n",
      "197170  ratâtes  ratates  1635604\n",
      "196156  râpâtes  rapates  1524251\n",
      "194148  radâtes  radates  1523027\n",
      "197154  ratages  ratages  1504353\n",
      "197985  ravîtes  ravites  1485808\n",
      "194551  radotes  radotes  1432025\n",
      "193487  rabotes  rabotes  1406721\n",
      "193488  rabotés  rabotes  1406721\n",
      "193951  rackets  rackets  1314445\n"
     ]
    }
   ],
   "source": [
    "sutom = 't..a..'\n",
    "lettres = 'cbaa'\n",
    "sutom = input(\"SUTOM (n......)\")\n",
    "lettres_jaunes = input (\"lettres en jaune\")\n",
    "lettres_bleues = input (\"lettres en bleu\")\n",
    "\n",
    "filtered_words = mots[mots['MotsSA'].str.match(f'^{sutom}$')]\n",
    "\n",
    "liste_position_points = [position for position, lettre in enumerate(sutom) if lettre == \".\"]\n",
    "liste_lettres_jaunes = []\n",
    "for lettre in lettres_jaunes:\n",
    "    liste_lettres_jaunes.append(lettre)\n",
    "liste_lettres_bleues = []\n",
    "for lettre in lettres_bleues:\n",
    "    liste_lettres_bleues.append(lettre)\n",
    "\n",
    "indices_a_supprimer = []\n",
    "for index, row in filtered_words.iterrows():\n",
    "    mot = row['MotsSA']\n",
    "    liste_lettres_possibles = []\n",
    "    for position in liste_position_points:\n",
    "        liste_lettres_possibles.append(mot[position])\n",
    "    for lettre in liste_lettres_jaunes:\n",
    "        if lettre not in liste_lettres_possibles:\n",
    "            indices_a_supprimer.append(index)\n",
    "    for lettre in liste_lettres_bleues:\n",
    "        if lettre in liste_lettres_possibles:\n",
    "            indices_a_supprimer.append(index)\n",
    "\n",
    "filtered_words = filtered_words.drop(indices_a_supprimer)\n",
    "\n",
    "# Affichage des mots filtrés\n",
    "print(filtered_words.sort_values('Poids',ascending=False))\n"
   ]
  }
 ],
 "metadata": {
  "kernelspec": {
   "display_name": "venv",
   "language": "python",
   "name": "python3"
  },
  "language_info": {
   "codemirror_mode": {
    "name": "ipython",
    "version": 3
   },
   "file_extension": ".py",
   "mimetype": "text/x-python",
   "name": "python",
   "nbconvert_exporter": "python",
   "pygments_lexer": "ipython3",
   "version": "3.10.12"
  }
 },
 "nbformat": 4,
 "nbformat_minor": 2
}
