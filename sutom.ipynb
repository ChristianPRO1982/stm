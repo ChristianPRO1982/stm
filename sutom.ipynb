{
 "cells": [
  {
   "cell_type": "markdown",
   "metadata": {},
   "source": [
    "___\n",
    "___\n",
    "___\n",
    "# SUTOM\n",
    "___\n",
    "___\n",
    "___"
   ]
  },
  {
   "cell_type": "code",
   "execution_count": null,
   "metadata": {},
   "outputs": [],
   "source": [
    "import pandas as pd\n",
    "\n",
    "mots = pd.read_csv('./liste_de_mots.csv')\n",
    "df_frequences_lettres = pd.read_csv('./frequences_lettres.csv')\n",
    "\n",
    "display(mots.head(1))\n"
   ]
  },
  {
   "cell_type": "code",
   "execution_count": null,
   "metadata": {},
   "outputs": [],
   "source": [
    "print(len(mots))\n",
    "mots = mots.dropna(subset=['MotsSA'])\n",
    "print(len(mots))\n"
   ]
  },
  {
   "cell_type": "code",
   "execution_count": null,
   "metadata": {},
   "outputs": [],
   "source": [
    "filtered_words = mots[mots['MotsSA'].str.match('^t..a..$')]\n",
    "\n",
    "# Affichage des mots filtrés\n",
    "print(filtered_words.sort_values('Poids',ascending=False))\n"
   ]
  },
  {
   "cell_type": "code",
   "execution_count": null,
   "metadata": {},
   "outputs": [],
   "source": [
    "sutom = 't..a..'\n",
    "lettres = 'cbaa'\n",
    "sutom = input(\"SUTOM (n......)\")\n",
    "lettres_jaunes = input (\"lettres en jaune\")\n",
    "lettres_bleues = input (\"lettres en bleu\")\n",
    "\n",
    "filtered_words = mots[mots['MotsSA'].str.match(f'^{sutom}$')]\n",
    "\n",
    "liste_position_points = [position for position, lettre in enumerate(sutom) if lettre == \".\"]\n",
    "liste_lettres_jaunes = []\n",
    "for lettre in lettres_jaunes:\n",
    "    liste_lettres_jaunes.append(lettre)\n",
    "liste_lettres_bleues = []\n",
    "for lettre in lettres_bleues:\n",
    "    liste_lettres_bleues.append(lettre)\n",
    "\n",
    "indices_a_supprimer = []\n",
    "for index, row in filtered_words.iterrows():\n",
    "    mot = row['MotsSA']\n",
    "    liste_lettres_possibles = []\n",
    "    for position in liste_position_points:\n",
    "        liste_lettres_possibles.append(mot[position])\n",
    "    for lettre in liste_lettres_jaunes:\n",
    "        if lettre not in liste_lettres_possibles:\n",
    "            indices_a_supprimer.append(index)\n",
    "    for lettre in liste_lettres_bleues:\n",
    "        if lettre in liste_lettres_possibles:\n",
    "            indices_a_supprimer.append(index)\n",
    "\n",
    "filtered_words = filtered_words.drop(indices_a_supprimer)\n",
    "\n",
    "# Affichage des mots filtrés\n",
    "print(filtered_words.sort_values('Poids',ascending=False))\n"
   ]
  },
  {
   "cell_type": "code",
   "execution_count": null,
   "metadata": {},
   "outputs": [],
   "source": [
    "def filtered_words(str_match: str)->list:\n",
    "    return mots[mots['MotsSA'].str.match(f'^{str_match}$')]"
   ]
  },
  {
   "cell_type": "code",
   "execution_count": 34,
   "metadata": {},
   "outputs": [
    {
     "name": "stdout",
     "output_type": "stream",
     "text": [
      "\n",
      "--------------------\n",
      "T..A..\n",
      "--------------------\n",
      "\n",
      "          Mots  MotsSA    Poids\n",
      "232788  tabacs  tabacs  1009612\n",
      "232795  tabard  tabard   949684\n",
      "232883  tacaud  tacaud   882730\n",
      "233047  taïaut  taiaut  1141919\n",
      "233172  talais  talais  1219636\n",
      "...        ...     ...      ...\n",
      "243889  tuyaux  tuyaux   608484\n",
      "243912  typais  typais   954613\n",
      "243913  typait  typait   882174\n",
      "243916  typant  typant   832189\n",
      "244033  tyrans  tyrans  1055339\n",
      "\n",
      "[86 rows x 3 columns]\n",
      "<><><><><>\n",
      "dict_values(['', '', '', '', '', '']) []\n",
      "FIN\n"
     ]
    }
   ],
   "source": [
    "#INIT\n",
    "l_rouges = {}\n",
    "l_jaunes = {}\n",
    "l_bleues = []\n",
    "lettres = input('début du jeu')\n",
    "lettres = lettres.lower()\n",
    "for index, lettre in enumerate(lettres):\n",
    "    l_rouges[index] = lettre\n",
    "    l_jaunes[index] = ''\n",
    "nb_lettres = len(lettres)\n",
    "mots_testes = []\n",
    "\n",
    "\n",
    "#JEU\n",
    "while True:\n",
    "    print()\n",
    "    print('--------------------')\n",
    "    str_match = \"\".join(l_rouges.values())\n",
    "    print(str_match.upper())\n",
    "    print('--------------------')\n",
    "    print()\n",
    "\n",
    "    liste_de_choix = filtered_words(str_match)\n",
    "\n",
    "    print(liste_de_choix)\n",
    "    print(\"<><><><><>\")\n",
    "    print(l_jaunes.values(), l_bleues)\n",
    "\n",
    "    mot_teste = input(\"mot testé\")\n",
    "    mot_teste = mot_teste.lower()\n",
    "    if mot_teste == \"\": break;\n",
    "    mots_testes.append(mot_teste)\n",
    "\n",
    "    resultats = input(\"résultat\")\n",
    "    if resultats == \"\": break;\n",
    "    resultats = resultats.upper()\n",
    "    for index, resultat in enumerate(resultats):\n",
    "        if resultat == 'R':\n",
    "            l_rouges[index] = mot_teste[index]\n",
    "        if resultat == 'J':\n",
    "            l_jaunes[index] += mot_teste[index]\n",
    "        if resultat == 'B':\n",
    "            if mot_teste[index] not in l_rouges.values() and mot_teste[index] not in l_jaunes.values():\n",
    "                l_bleues.append(mot_teste[index])\n",
    "\n",
    "print('FIN')"
   ]
  }
 ],
 "metadata": {
  "kernelspec": {
   "display_name": "venv",
   "language": "python",
   "name": "python3"
  },
  "language_info": {
   "codemirror_mode": {
    "name": "ipython",
    "version": 3
   },
   "file_extension": ".py",
   "mimetype": "text/x-python",
   "name": "python",
   "nbconvert_exporter": "python",
   "pygments_lexer": "ipython3",
   "version": "3.10.12"
  }
 },
 "nbformat": 4,
 "nbformat_minor": 2
}
