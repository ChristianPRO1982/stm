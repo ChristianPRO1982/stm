{
 "cells": [
  {
   "cell_type": "markdown",
   "metadata": {},
   "source": [
    "___\n",
    "___\n",
    "___\n",
    "# SUTOM\n",
    "___\n",
    "___\n",
    "___"
   ]
  },
  {
   "cell_type": "code",
   "execution_count": 1,
   "metadata": {},
   "outputs": [],
   "source": [
    "import pandas as pd\n",
    "\n",
    "df = pd.read_csv('./liste_de_mots.csv')"
   ]
  },
  {
   "cell_type": "code",
   "execution_count": 2,
   "metadata": {},
   "outputs": [
    {
     "name": "stdout",
     "output_type": "stream",
     "text": [
      "          Mots  MotsSA    Poids\n",
      "232788  tabacs  tabacs  1009612\n",
      "232795  tabard  tabard   949684\n",
      "232883  tacaud  tacaud   882730\n",
      "233047  taïaut  taiaut  1141919\n",
      "233172  talais  talais  1219636\n",
      "...        ...     ...      ...\n",
      "243889  tuyaux  tuyaux   608484\n",
      "243912  typais  typais   954613\n",
      "243913  typait  typait   882174\n",
      "243916  typant  typant   832189\n",
      "244033  tyrans  tyrans  1055339\n",
      "\n",
      "[86 rows x 3 columns]\n"
     ]
    }
   ],
   "source": [
    "filtered_words = df[df['MotsSA'].str.match('^t..a..$')]\n",
    "\n",
    "# Affichage des mots filtrés\n",
    "print(filtered_words)\n"
   ]
  },
  {
   "cell_type": "code",
   "execution_count": null,
   "metadata": {},
   "outputs": [],
   "source": [
    "# Création d'un DataFrame avec une colonne contenant une liste de mots\n",
    "data = {'Mots': ['table', 'taco', 'tomate', 'plateau', 'taureau', 'téléphone']}\n",
    "df = pd.DataFrame(data)\n",
    "df = mots\n",
    "\n",
    "# Utilisation d'une expression régulière pour filtrer les mots\n",
    "filtered_words = df[df['MotsSA'].str.match('^t..a..$')]\n",
    "\n",
    "# Affichage des mots filtrés\n",
    "print(filtered_words)\n"
   ]
  }
 ],
 "metadata": {
  "kernelspec": {
   "display_name": "venv",
   "language": "python",
   "name": "python3"
  },
  "language_info": {
   "codemirror_mode": {
    "name": "ipython",
    "version": 3
   },
   "file_extension": ".py",
   "mimetype": "text/x-python",
   "name": "python",
   "nbconvert_exporter": "python",
   "pygments_lexer": "ipython3",
   "version": "3.10.12"
  }
 },
 "nbformat": 4,
 "nbformat_minor": 2
}
